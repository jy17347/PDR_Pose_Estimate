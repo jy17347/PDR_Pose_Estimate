{
 "cells": [
  {
   "cell_type": "code",
   "execution_count": 1,
   "metadata": {},
   "outputs": [
    {
     "name": "stderr",
     "output_type": "stream",
     "text": [
      "<frozen importlib._bootstrap>:228: RuntimeWarning: scipy._lib.messagestream.MessageStream size changed, may indicate binary incompatibility. Expected 56 from C header, got 64 from PyObject\n"
     ]
    }
   ],
   "source": [
    "import time, os\n",
    "import numpy as np\n",
    "import pandas as pd\n",
    "from model import LSTM_model\n",
    "from get_dataset_new import IMU_dataset\n",
    "from tensorflow.keras.utils import plot_model\n",
    "from tensorflow.keras.utils import to_categorical\n",
    "from sklearn.model_selection import train_test_split\n",
    "from tensorflow.keras.callbacks import EarlyStopping\n",
    "from tensorflow.keras.optimizers import Adam\n",
    "from matplotlib import pyplot as plt\n",
    "from sklearn.preprocessing import StandardScaler\n",
    "from sklearn.model_selection import train_test_split"
   ]
  },
  {
   "cell_type": "code",
   "execution_count": 2,
   "metadata": {},
   "outputs": [],
   "source": [
    "#PARAMETER\n",
    "created_time = int(time.time())\n",
    "\n",
    "epochs = 10\n",
    "frame_len = 20\n",
    "batch_size = 64\n",
    "lr = 0.0001\n",
    "loss = 'categorical_crossentropy'\n",
    "dataset_dir = 'dataset_new'"
   ]
  },
  {
   "cell_type": "code",
   "execution_count": 3,
   "metadata": {},
   "outputs": [
    {
     "name": "stdout",
     "output_type": "stream",
     "text": [
      "[[[ 0.45967511 -1.         -0.27302667 -0.46941629  0.35959154\n",
      "    0.45860568]\n",
      "  [ 0.45913444 -0.99977378 -0.28175803 -0.46871725  0.37345002\n",
      "    0.46187366]\n",
      "  [ 0.45856926 -0.99953732 -0.29088513 -0.46696963  0.41648431\n",
      "    0.50000002]\n",
      "  ...\n",
      "  [-0.90820864 -0.96873924 -0.75311178 -0.90562745 -0.34865062\n",
      "   -0.65250552]\n",
      "  [-0.96099439 -0.97291883 -0.87144759 -0.94687174 -0.54631653\n",
      "   -0.84422662]\n",
      "  [-1.         -0.97602736 -1.         -1.         -0.65937272\n",
      "   -1.        ]]\n",
      "\n",
      " [[ 0.45913444 -1.         -0.2558485  -0.45273463  0.37345002\n",
      "    0.436214  ]\n",
      "  [ 0.45856926 -0.99976348 -0.2641363  -0.45104659  0.41648431\n",
      "    0.47222222]\n",
      "  [ 0.45801233 -0.9995304  -0.27230323 -0.45476029  0.42231946\n",
      "    0.51851853]\n",
      "  ...\n",
      "  [-0.96099439 -0.97313897 -0.79131217 -0.91458469 -0.54631653\n",
      "   -0.79732512]\n",
      "  [-1.         -0.9762482  -0.90804333 -0.96590135 -0.65937272\n",
      "   -0.94444441]\n",
      "  [-0.91451119 -0.98568817 -1.         -1.         -0.65937272\n",
      "   -1.        ]]\n",
      "\n",
      " [[ 0.45856926 -1.         -0.24396634 -0.43846408  0.41648431\n",
      "    0.47222222]\n",
      "  [ 0.45801233 -0.99976687 -0.25150962 -0.44207418  0.42231946\n",
      "    0.51851853]\n",
      "  [ 0.45746008 -0.9995357  -0.25898955 -0.45684279  0.48212981\n",
      "    0.54732514]\n",
      "  ...\n",
      "  [-1.         -0.97647916 -0.83870336 -0.93895632 -0.65937272\n",
      "   -0.94444441]\n",
      "  [-0.91451119 -0.98592136 -0.92363804 -0.97210374 -0.65937272\n",
      "   -1.        ]\n",
      "  [-0.80201187 -0.9965548  -1.         -1.         -0.54194017\n",
      "   -0.98456797]]\n",
      "\n",
      " ...\n",
      "\n",
      " [[-0.11209134  1.         -0.95246074 -0.66186386  0.28078114\n",
      "    0.76805439]\n",
      "  [-0.14257656  0.98578347 -0.83782514 -0.59595339  0.22291023\n",
      "    0.74596433]\n",
      "  [-0.17955103  0.96770805 -0.70783097 -0.52253219  0.19290307\n",
      "    0.73576887]\n",
      "  ...\n",
      "  [-0.98900195  0.83681654  0.17419034 -1.         -1.\n",
      "   -0.30926083]\n",
      "  [-0.9476958   0.8336216  -0.01058154 -0.97961375 -0.96832574\n",
      "   -0.46389124]\n",
      "  [-0.90275938  0.83154812 -0.17190241 -0.92688538 -0.93165044\n",
      "   -0.49447752]]\n",
      "\n",
      " [[-0.14257656  1.         -0.83782514 -0.59595339  0.22291023\n",
      "    0.74596433]\n",
      "  [-0.17955103  0.98166391 -0.70783097 -0.52253219  0.19290307\n",
      "    0.73576887]\n",
      "  [-0.21711441  0.96303577 -0.57576633 -0.44129368  0.14789235\n",
      "    0.73831773]\n",
      "  ...\n",
      "  [-0.9476958   0.84564372 -0.01058154 -0.97961375 -0.96832574\n",
      "   -0.46389124]\n",
      "  [-0.90275938  0.84354033 -0.17190241 -0.92688538 -0.93165044\n",
      "   -0.49447752]\n",
      "  [-0.86811496  0.83275645 -0.27716292 -0.85285102 -0.88020958\n",
      "   -0.50977062]]\n",
      "\n",
      " [[-0.17955103  1.         -0.70783097 -0.52253219  0.19290307\n",
      "    0.73576887]\n",
      "  [-0.21711441  0.98102391 -0.57576633 -0.44129368  0.14789235\n",
      "    0.73831773]\n",
      "  [-0.26009832  0.96598635 -0.44931746 -0.40006133  0.09978566\n",
      "    0.78079863]\n",
      "  ...\n",
      "  [-0.90275938  0.85929647 -0.17190241 -0.92688538 -0.93165044\n",
      "   -0.49447752]\n",
      "  [-0.86811496  0.84831116 -0.27716292 -0.85285102 -0.88020958\n",
      "   -0.50977062]\n",
      "  [-0.8391951   0.83624521 -0.35910059 -0.77498466 -0.80161942\n",
      "   -0.52931179]]]\n",
      "(137139, 20, 6)\n",
      "(137139, 20, 6) (137139, 5)\n"
     ]
    }
   ],
   "source": [
    "#LOAD DATASET\n",
    "data = IMU_dataset(dataset_dir)\n",
    "pose_list = os.listdir('./' + dataset_dir)\n",
    "\n",
    "x_data, y_data, y_list = data.Sequence_data(frame_len)\n",
    "\n",
    "print(x_data)\n",
    "x_data = x_data.astype(np.float32)\n",
    "y_data = y_data.astype(np.float32)\n",
    "y_data = to_categorical(y_data, len(pose_list))\n",
    "print(np.shape(x_data))\n",
    "\n",
    "X_train, X_test, Y_train, Y_test = train_test_split(x_data, y_data, random_state = 2022)\n",
    "\n",
    "\n",
    "print(np.shape(x_data), np.shape(y_data))"
   ]
  },
  {
   "cell_type": "code",
   "execution_count": 4,
   "metadata": {},
   "outputs": [
    {
     "name": "stdout",
     "output_type": "stream",
     "text": [
      "['running.csv', 'Sitting_on_chair.csv', 'Sit_to_stand.csv', 'standing.csv', 'walking.csv']\n"
     ]
    }
   ],
   "source": [
    "print(y_list)"
   ]
  },
  {
   "cell_type": "code",
   "execution_count": 5,
   "metadata": {},
   "outputs": [],
   "source": [
    "num_degree = np.shape(x_data)[-1]\n",
    "num_pose = len(os.listdir('./'+dataset_dir))"
   ]
  },
  {
   "cell_type": "code",
   "execution_count": 6,
   "metadata": {},
   "outputs": [
    {
     "ename": "TypeError",
     "evalue": "attention_3d_block() missing 1 required positional argument: 'inputs'",
     "output_type": "error",
     "traceback": [
      "\u001b[1;31m---------------------------------------------------------------------------\u001b[0m",
      "\u001b[1;31mTypeError\u001b[0m                                 Traceback (most recent call last)",
      "\u001b[1;32m~\\AppData\\Local\\Temp/ipykernel_1824/4005134787.py\u001b[0m in \u001b[0;36m<module>\u001b[1;34m\u001b[0m\n\u001b[1;32m----> 1\u001b[1;33m \u001b[0mmodel\u001b[0m \u001b[1;33m=\u001b[0m \u001b[0mLSTM_model\u001b[0m\u001b[1;33m(\u001b[0m\u001b[0mnum_degree\u001b[0m\u001b[1;33m,\u001b[0m \u001b[0mnum_pose\u001b[0m\u001b[1;33m)\u001b[0m\u001b[1;33m\u001b[0m\u001b[1;33m\u001b[0m\u001b[0m\n\u001b[0m\u001b[0;32m      2\u001b[0m \u001b[0mmodel\u001b[0m\u001b[1;33m.\u001b[0m\u001b[0msummary\u001b[0m\u001b[1;33m(\u001b[0m\u001b[1;33m)\u001b[0m\u001b[1;33m\u001b[0m\u001b[1;33m\u001b[0m\u001b[0m\n\u001b[0;32m      3\u001b[0m \u001b[0mplot_model\u001b[0m\u001b[1;33m(\u001b[0m\u001b[0mmodel\u001b[0m\u001b[1;33m,\u001b[0m \u001b[0mshow_shapes\u001b[0m\u001b[1;33m=\u001b[0m\u001b[1;32mTrue\u001b[0m\u001b[1;33m)\u001b[0m\u001b[1;33m\u001b[0m\u001b[1;33m\u001b[0m\u001b[0m\n",
      "\u001b[1;32mc:\\Project\\PDR_Pose_Estimate\\model.py\u001b[0m in \u001b[0;36mLSTM_model\u001b[1;34m(num_degree, num_pose)\u001b[0m\n\u001b[0;32m     25\u001b[0m     model = Sequential([\n\u001b[0;32m     26\u001b[0m         \u001b[0mLSTM\u001b[0m\u001b[1;33m(\u001b[0m\u001b[1;36m64\u001b[0m\u001b[1;33m,\u001b[0m \u001b[0mdropout\u001b[0m\u001b[1;33m=\u001b[0m\u001b[1;36m0.2\u001b[0m\u001b[1;33m,\u001b[0m \u001b[0mactivation\u001b[0m\u001b[1;33m=\u001b[0m\u001b[1;34m'relu'\u001b[0m\u001b[1;33m,\u001b[0m \u001b[0mreturn_sequences\u001b[0m\u001b[1;33m=\u001b[0m\u001b[1;32mTrue\u001b[0m\u001b[1;33m,\u001b[0m \u001b[0minput_shape\u001b[0m\u001b[1;33m=\u001b[0m\u001b[1;33m(\u001b[0m\u001b[1;36m20\u001b[0m\u001b[1;33m,\u001b[0m\u001b[1;36m6\u001b[0m\u001b[1;33m)\u001b[0m\u001b[1;33m)\u001b[0m\u001b[1;33m,\u001b[0m\u001b[1;33m\u001b[0m\u001b[1;33m\u001b[0m\u001b[0m\n\u001b[1;32m---> 27\u001b[1;33m         \u001b[0mattention_3d_block\u001b[0m\u001b[1;33m(\u001b[0m\u001b[1;33m)\u001b[0m\u001b[1;33m,\u001b[0m\u001b[1;33m\u001b[0m\u001b[1;33m\u001b[0m\u001b[0m\n\u001b[0m\u001b[0;32m     28\u001b[0m         \u001b[0mLSTM\u001b[0m\u001b[1;33m(\u001b[0m\u001b[1;36m128\u001b[0m\u001b[1;33m,\u001b[0m \u001b[0mdropout\u001b[0m\u001b[1;33m=\u001b[0m\u001b[1;36m0.2\u001b[0m\u001b[1;33m,\u001b[0m \u001b[0mactivation\u001b[0m\u001b[1;33m=\u001b[0m\u001b[1;34m'relu'\u001b[0m\u001b[1;33m,\u001b[0m \u001b[0mreturn_sequences\u001b[0m\u001b[1;33m=\u001b[0m\u001b[1;32mTrue\u001b[0m\u001b[1;33m)\u001b[0m\u001b[1;33m,\u001b[0m\u001b[1;33m\u001b[0m\u001b[1;33m\u001b[0m\u001b[0m\n\u001b[0;32m     29\u001b[0m         \u001b[0mLSTM\u001b[0m\u001b[1;33m(\u001b[0m\u001b[1;36m64\u001b[0m\u001b[1;33m,\u001b[0m \u001b[0mdropout\u001b[0m\u001b[1;33m=\u001b[0m\u001b[1;36m0.2\u001b[0m\u001b[1;33m,\u001b[0m \u001b[0mactivation\u001b[0m\u001b[1;33m=\u001b[0m\u001b[1;34m'relu'\u001b[0m\u001b[1;33m)\u001b[0m\u001b[1;33m,\u001b[0m\u001b[1;33m\u001b[0m\u001b[1;33m\u001b[0m\u001b[0m\n",
      "\u001b[1;31mTypeError\u001b[0m: attention_3d_block() missing 1 required positional argument: 'inputs'"
     ]
    }
   ],
   "source": [
    "model = LSTM_model(num_degree, num_pose)\n",
    "model.summary()\n",
    "plot_model(model, show_shapes=True)"
   ]
  },
  {
   "cell_type": "code",
   "execution_count": null,
   "metadata": {},
   "outputs": [],
   "source": [
    "#MODEL COMPILE\n",
    "model.compile(\n",
    "    optimizer=Adam(learning_rate=lr),\n",
    "    loss=loss,\n",
    "    metrics=['acc'])"
   ]
  },
  {
   "cell_type": "code",
   "execution_count": null,
   "metadata": {},
   "outputs": [],
   "source": [
    "#EARLY STOPPING\n",
    "cb = EarlyStopping(\n",
    "    monitor='val_loss', min_delta=0.0001, patience=5, verbose=1, mode='min',\n",
    "    baseline=None, restore_best_weights=True\n",
    ")"
   ]
  },
  {
   "cell_type": "code",
   "execution_count": null,
   "metadata": {},
   "outputs": [],
   "source": [
    "x_train, x_val, y_train, y_val, = train_test_split(x_data, y_data, test_size=0.2, random_state=2022)"
   ]
  },
  {
   "cell_type": "code",
   "execution_count": null,
   "metadata": {},
   "outputs": [
    {
     "name": "stdout",
     "output_type": "stream",
     "text": [
      "Epoch 1/10\n",
      "1715/1715 [==============================] - 216s 123ms/step - loss: 0.1516 - acc: 0.9602 - val_loss: 0.0252 - val_acc: 0.9929\n",
      "Epoch 2/10\n",
      "1715/1715 [==============================] - 129s 75ms/step - loss: 0.0311 - acc: 0.9909 - val_loss: 0.0223 - val_acc: 0.9933\n",
      "Epoch 3/10\n",
      "1715/1715 [==============================] - 116s 68ms/step - loss: 0.0241 - acc: 0.9926 - val_loss: 0.0139 - val_acc: 0.9962\n",
      "Epoch 4/10\n",
      "1715/1715 [==============================] - 115s 67ms/step - loss: 0.0210 - acc: 0.9937 - val_loss: 0.0120 - val_acc: 0.9970\n",
      "Epoch 5/10\n",
      "1715/1715 [==============================] - 118s 69ms/step - loss: 0.0185 - acc: 0.9943 - val_loss: 0.0089 - val_acc: 0.9973\n",
      "Epoch 6/10\n",
      "1715/1715 [==============================] - 112s 66ms/step - loss: 0.0174 - acc: 0.9947 - val_loss: 0.0108 - val_acc: 0.9970\n",
      "Epoch 7/10\n",
      "1715/1715 [==============================] - 107s 63ms/step - loss: 0.0151 - acc: 0.9953 - val_loss: 0.0082 - val_acc: 0.9972\n",
      "Epoch 8/10\n",
      "1715/1715 [==============================] - 106s 62ms/step - loss: 0.0150 - acc: 0.9952 - val_loss: 0.0086 - val_acc: 0.9977\n",
      "Epoch 9/10\n",
      "1715/1715 [==============================] - 105s 61ms/step - loss: 0.0134 - acc: 0.9955 - val_loss: 0.0081 - val_acc: 0.9977\n",
      "Epoch 10/10\n",
      "1715/1715 [==============================] - 103s 60ms/step - loss: 0.0137 - acc: 0.9958 - val_loss: 0.0071 - val_acc: 0.9978\n"
     ]
    }
   ],
   "source": [
    "#TRAIN\n",
    "history = model.fit(\n",
    "    x_train, y_train,\n",
    "    epochs=epochs,\n",
    "    batch_size=batch_size,\n",
    "    validation_data=(x_val, y_val),\n",
    "    callbacks=[cb]\n",
    ")"
   ]
  },
  {
   "cell_type": "code",
   "execution_count": null,
   "metadata": {},
   "outputs": [],
   "source": [
    "os.mkdir(f\"models/{created_time}_{loss}_{lr}_{batch_size}\")\n",
    "model.save(f'models/{created_time}_{loss}_{lr}_{batch_size}/exercise_model.h5')"
   ]
  },
  {
   "cell_type": "code",
   "execution_count": null,
   "metadata": {},
   "outputs": [
    {
     "data": {
      "image/png": "[encoded data removed]",
      "text/plain": [
       "<Figure size 1440x288 with 2 Axes>"
      ]
     },
     "metadata": {},
     "output_type": "display_data"
    }
   ],
   "source": [
    "#PLT\n",
    "plt.figure(figsize=(20,4), facecolor='white')\n",
    "plt.subplot(1,2,1)\n",
    "pd.Series(history.history['loss']).plot(logy=True)\n",
    "pd.Series(history.history['val_loss']).plot(logy=True)\n",
    "plt.xlabel(\"Epoch\")\n",
    "plt.ylabel(\"Train Error\")\n",
    "\n",
    "plt.subplot(1,2,2)\n",
    "pd.Series(history.history['acc']).plot(logy=True)\n",
    "pd.Series(history.history['val_acc']).plot(logy=True)\n",
    "plt.xlabel(\"Epoch\")\n",
    "plt.ylabel(\"Accuracy\")\n",
    "\n",
    "plt.savefig(f\"models/{created_time}_{loss}_{lr}_{batch_size}/train_error.png\")\n",
    "plt.show()"
   ]
  },
  {
   "cell_type": "code",
   "execution_count": null,
   "metadata": {},
   "outputs": [
    {
     "name": "stdout",
     "output_type": "stream",
     "text": [
      "[[0. 0. 0. 1. 0.]\n",
      " [0. 0. 0. 0. 1.]\n",
      " [0. 0. 0. 1. 0.]\n",
      " ...\n",
      " [0. 0. 0. 0. 1.]\n",
      " [1. 0. 0. 0. 0.]\n",
      " [0. 0. 0. 1. 0.]]\n"
     ]
    }
   ],
   "source": [
    "from sklearn.metrics import confusion_matrix\n",
    "import matplotlib.pyplot as plt\n",
    "from sklearn.metrics import confusion_matrix, plot_confusion_matrix\n",
    "\n",
    "label_pre = model.predict([x_val])\n",
    "\n",
    "\n",
    "# #Create confusion matrix and normalizes it over predicted (columns)\n",
    "# label = np.argmax(label_val, axis = 1)\n",
    "\n",
    "label_pre = np.round(label_pre,0)\n",
    "# result = confusion_matrix(y_val, label_pre)\n",
    "# print(result)\n",
    "\n",
    "print(label_pre)\n",
    "# import seaborn as sns\n",
    "# from matplotlib.colors import LogNorm, Normalize\n",
    "# plt.figure(facecolor='white')\n",
    "# ax = sns.heatmap(result, annot=True,fmt='d',cmap='Blues',norm=LogNorm())\n",
    "# plt.title('Heatmap', fontsize=20)\n",
    "# plt.savefig(f\"model/{created_time}_{loss}_{lr}_{batch_size}/heatmap.png\")\n",
    "# plt.show()"
   ]
  }
 ],
 "metadata": {
  "kernelspec": {
   "display_name": "Python 3.9.7 ('kwix')",
   "language": "python",
   "name": "python3"
  },
  "language_info": {
   "codemirror_mode": {
    "name": "ipython",
    "version": 3
   },
   "file_extension": ".py",
   "mimetype": "text/x-python",
   "name": "python",
   "nbconvert_exporter": "python",
   "pygments_lexer": "ipython3",
   "version": "3.9.7"
  },
  "orig_nbformat": 4,
  "vscode": {
   "interpreter": {
    "hash": "eee639eda16c9e05b4c77b43e0cc7d48f6e599f20bfdf495043e1fe9a8ebacc8"
   }
  }
 },
 "nbformat": 4,
 "nbformat_minor": 2
}
