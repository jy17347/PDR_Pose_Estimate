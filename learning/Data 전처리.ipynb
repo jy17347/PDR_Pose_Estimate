{
 "cells": [
  {
   "cell_type": "code",
   "execution_count": 1,
   "id": "2244d3af",
   "metadata": {},
   "outputs": [],
   "source": [
    "import numpy as np\n",
    "import pandas as pd\n",
    "import seaborn as sns\n",
    "from matplotlib import pyplot as plt\n",
    "from IPython.display import display\n",
    "from sklearn.model_selection import train_test_split\n",
    "from sklearn import svm\n",
    "from sklearn.svm import SVC\n",
    "from sklearn.preprocessing import StandardScaler\n",
    "from sklearn.metrics import accuracy_score\n",
    "seed = 42\n",
    "np.random.seed(seed)"
   ]
  },
  {
   "cell_type": "code",
   "execution_count": null,
   "id": "d501b446",
   "metadata": {},
   "outputs": [],
   "source": [
    "path = r'C:\\Users\\seven\\Desktop\\Pose estimation\\SVM_ex1\\Data' # setting\n",
    "folder_list = os.listdir(path)"
   ]
  },
  {
   "cell_type": "code",
   "execution_count": null,
   "id": "d55d1596",
   "metadata": {},
   "outputs": [],
   "source": [
    "folder_list"
   ]
  },
  {
   "cell_type": "code",
   "execution_count": null,
   "id": "621ea61e",
   "metadata": {},
   "outputs": [],
   "source": [
    "for folder in folder_list:\n",
    "    globals()['class_{}'.format(folder)] = pd.DataFrame()\n",
    "    file_list = os.listdir(path + '\\\\' + folder)\n",
    "    for file in file_list:\n",
    "        data = pd.read_csv(path + '\\\\' + folder + '\\\\' + file)\n",
    "        globals()['class_{}'.format(folder)] = pd.concat([globals()['class_{}'.format(folder)], data])\n",
    "        globals()['class_{}'.format(folder)].drop(columns = ['timestamp', 'rel_time'], axis = 1, inplace=True)\n",
    "        globals()['class_{}'.format(folder)].reset_index(drop=True, inplace=True)"
   ]
  },
  {
   "cell_type": "code",
   "execution_count": null,
   "id": "0eb7e01d",
   "metadata": {},
   "outputs": [],
   "source": [
    "df = pd.DataFrame()\n",
    "for folder in folder_list:\n",
    "    \n",
    "    df = pd.concat([df, globals()['class_{}'.format(folder)]])"
   ]
  },
  {
   "cell_type": "code",
   "execution_count": null,
   "id": "47f5f232",
   "metadata": {},
   "outputs": [],
   "source": [
    "df"
   ]
  },
  {
   "cell_type": "code",
   "execution_count": null,
   "id": "6e4dbcef",
   "metadata": {},
   "outputs": [],
   "source": [
    "X = df[df.columns[:-1]]\n",
    "y = df['label']\n",
    "X = X.drop(['azimuth', 'pitch', 'roll'], axis = 1)\n",
    "X_train, X_test, Y_train, Y_test = train_test_split(X, y, test_size=0.3)"
   ]
  },
  {
   "cell_type": "code",
   "execution_count": null,
   "id": "dec90804",
   "metadata": {},
   "outputs": [],
   "source": [
    "# 정규화 작업\n",
    "scaler = StandardScaler()\n",
    "scaler.fit(X_train)\n",
    "X_train = scaler.transform(X_train)"
   ]
  },
  {
   "cell_type": "code",
   "execution_count": null,
   "id": "3eb41dac",
   "metadata": {},
   "outputs": [],
   "source": []
  },
  {
   "cell_type": "code",
   "execution_count": null,
   "id": "1c3f7bbd",
   "metadata": {},
   "outputs": [],
   "source": []
  },
  {
   "cell_type": "code",
   "execution_count": null,
   "id": "0a36b351",
   "metadata": {},
   "outputs": [],
   "source": []
  }
 ],
 "metadata": {
  "kernelspec": {
   "display_name": "Python 3.9.7 ('kwix')",
   "language": "python",
   "name": "python3"
  },
  "language_info": {
   "codemirror_mode": {
    "name": "ipython",
    "version": 3
   },
   "file_extension": ".py",
   "mimetype": "text/x-python",
   "name": "python",
   "nbconvert_exporter": "python",
   "pygments_lexer": "ipython3",
   "version": "3.9.7"
  },
  "vscode": {
   "interpreter": {
    "hash": "eee639eda16c9e05b4c77b43e0cc7d48f6e599f20bfdf495043e1fe9a8ebacc8"
   }
  }
 },
 "nbformat": 4,
 "nbformat_minor": 5
}
